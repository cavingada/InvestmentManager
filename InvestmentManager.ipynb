{
 "cells": [
  {
   "cell_type": "code",
   "execution_count": null,
   "metadata": {},
   "outputs": [],
   "source": [
    "import pandas as pd\n",
    "from matplotlib import pyplot as plt\n",
    "import os"
   ]
  },
  {
   "cell_type": "code",
   "execution_count": null,
   "metadata": {},
   "outputs": [],
   "source": [
    "class InvestmentManager():\n",
    "\n",
    "    def __init__(self, file = None):\n",
    "        \n",
    "        self.portfolio = self.__getPortfolio(file)\n",
    "\n",
    "    def __getPortfolio(self, file):\n",
    "\n",
    "        # get all files in the 'Positions' directory\n",
    "        path = os.getcwd() + '/Positions'\n",
    "        positions = os.listdir(path)\n",
    "\n",
    "        # Raise exception if there are no downloaded positions in the 'Positions' directory\n",
    "        if not positions: raise Exception(\"No Positions Found\")\n",
    "\n",
    "        # if a portfolio argument is supplied and it exists in the 'Positions' directory, return it. Otherwise, raise an exception. \n",
    "        if file:\n",
    "            if file not in positions:\n",
    "                raise Exception(\"No such positions file exists\")\n",
    "            portfolio = path + '/' + str(file)\n",
    "        # if no portfolio argument is supplied, return the latest position file\n",
    "        else:\n",
    "            positions.sort()\n",
    "            portfolio = path + '/' + str(positions[-1])\n",
    "\n",
    "        # convert to Pandas DataFrame and drop useless rows\n",
    "        df = pd.read_csv(portfolio)\n",
    "        df = df[df['Description'].notna()]\n",
    "        return df\n",
    "\n",
    "p = InvestmentManager()\n",
    "p.portfolio"
   ]
  }
 ],
 "metadata": {
  "kernelspec": {
   "display_name": "base",
   "language": "python",
   "name": "python3"
  },
  "language_info": {
   "codemirror_mode": {
    "name": "ipython",
    "version": 3
   },
   "file_extension": ".py",
   "mimetype": "text/x-python",
   "name": "python",
   "nbconvert_exporter": "python",
   "pygments_lexer": "ipython3",
   "version": "3.8.8"
  },
  "vscode": {
   "interpreter": {
    "hash": "d339a2a8c50b423644d93202ec801c8d3e3572f2d49108f6f93dfd237da3c203"
   }
  }
 },
 "nbformat": 4,
 "nbformat_minor": 2
}
